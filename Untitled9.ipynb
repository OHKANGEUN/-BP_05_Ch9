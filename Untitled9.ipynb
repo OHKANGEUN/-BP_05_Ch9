{
  "nbformat": 4,
  "nbformat_minor": 0,
  "metadata": {
    "colab": {
      "provenance": [],
      "authorship_tag": "ABX9TyM4yZY0Tw8AdtrrknHqwEp+",
      "include_colab_link": true
    },
    "kernelspec": {
      "name": "python3",
      "display_name": "Python 3"
    },
    "language_info": {
      "name": "python"
    }
  },
  "cells": [
    {
      "cell_type": "markdown",
      "metadata": {
        "id": "view-in-github",
        "colab_type": "text"
      },
      "source": [
        "<a href=\"https://colab.research.google.com/github/OHKANGEUN/-BP_05_Ch9/blob/main/Untitled9.ipynb\" target=\"_parent\"><img src=\"https://colab.research.google.com/assets/colab-badge.svg\" alt=\"Open In Colab\"/></a>"
      ]
    },
    {
      "cell_type": "markdown",
      "source": [
        "1.사용자로부터 5개의 숫자를 읽어서 리스트에 저장하고 숫자들의 평균을 계산해 출력하는 프로그램을 작성해보자"
      ],
      "metadata": {
        "id": "PejPG2XbZ0_A"
      }
    },
    {
      "cell_type": "code",
      "source": [
        "alist = [] \n",
        "sum = 0\n",
        "\n",
        "\n",
        "for i in range(5):\n",
        "    i = int(input(\"정수를 입력하시오:\"))\n",
        "    alist.append(i)\n",
        "\n",
        "for i in alist:\n",
        "    sum += i\n",
        "avg =sum/len(alist)\n",
        "print(\"평균=\", avg)"
      ],
      "metadata": {
        "colab": {
          "base_uri": "https://localhost:8080/"
        },
        "id": "QFxd-vs5XgOl",
        "outputId": "a51e276e-0cc3-4593-e907-fe4c253ef671"
      },
      "execution_count": 3,
      "outputs": [
        {
          "output_type": "stream",
          "name": "stdout",
          "text": [
            "정수를 입력하시오:10\n",
            "정수를 입력하시오:20\n",
            "정수를 입력하시오:30\n",
            "정수를 입력하시오:40\n",
            "정수를 입력하시오:50\n",
            "평균= 30.0\n"
          ]
        }
      ]
    },
    {
      "cell_type": "markdown",
      "source": [
        "2.주사위를 던져 나오는 값들의 빈도를 계산하는 프로그램을 작성해보자. 즉 1.2.3.4.5.6값이 각각 몇번이나 나오는지를 계산하낟. 난수발생 함수와 리스트를 사용해보자"
      ],
      "metadata": {
        "id": "YgDAhyKqXvam"
      }
    },
    {
      "cell_type": "code",
      "source": [
        "import random\n",
        "counters = [0,0,0,0,0,0]\n",
        "\n",
        "for i in range(1000): \n",
        "       value = random.randint(0, 5) \n",
        "       counters[value] = counters[value] + 1\n",
        "\n",
        "for i in range(6):\n",
        "       print(\"주사위가 \", i+1, \"인 경우는 \", counters[i], \"번\")"
      ],
      "metadata": {
        "colab": {
          "base_uri": "https://localhost:8080/"
        },
        "id": "7lnEMsLfYSY0",
        "outputId": "82b24ca6-76a0-46ed-ddbd-880334ee687d"
      },
      "execution_count": 4,
      "outputs": [
        {
          "output_type": "stream",
          "name": "stdout",
          "text": [
            "주사위가  1 인 경우는  160 번\n",
            "주사위가  2 인 경우는  184 번\n",
            "주사위가  3 인 경우는  182 번\n",
            "주사위가  4 인 경우는  175 번\n",
            "주사위가  5 인 경우는  154 번\n",
            "주사위가  6 인 경우는  145 번\n"
          ]
        }
      ]
    },
    {
      "cell_type": "markdown",
      "source": [
        "3.딕셔너리를 사용하여서 친구들의 이름과 전화번호를 저장해보자.들의 이름과 전화번호를 입력받고 딕셔너리에 저장한다. 이름을 입력해치면 검색모드가 된다. 검색 모드에서는 친구들의 이름으로 전화번호록 한다."
      ],
      "metadata": {
        "id": "w0vn3cGNYjT2"
      }
    },
    {
      "cell_type": "code",
      "source": [
        "contacts = { } \n",
        "\n",
        "while True: \n",
        "       name = input(\"(입력모드)이름을 입력하시오: \") \n",
        "       if not name: \n",
        "              break; \n",
        "       tel = input(\"전화번호를 입력하시오:\") \n",
        "       contacts[name] = tel \n",
        "\n",
        "while True: \n",
        "       name = input(\"(검색모드) 이름을 입력하시오: \") \n",
        "       if not name: \n",
        "              break; \n",
        "       if name in contacts : \n",
        "              print(name, \"의 전화번호는\", contacts[name], \"입니다.\")\n",
        "       else:"
      ],
      "metadata": {
        "colab": {
          "base_uri": "https://localhost:8080/",
          "height": 137
        },
        "id": "ZsIbZBKDafM3",
        "outputId": "4d78c469-0bc4-42f4-d84e-fde74e0f68c5"
      },
      "execution_count": 12,
      "outputs": [
        {
          "output_type": "error",
          "ename": "SyntaxError",
          "evalue": "ignored",
          "traceback": [
            "\u001b[0;36m  File \u001b[0;32m\"<ipython-input-12-b33a084c11cc>\"\u001b[0;36m, line \u001b[0;32m16\u001b[0m\n\u001b[0;31m    else:\u001b[0m\n\u001b[0m         ^\u001b[0m\n\u001b[0;31mSyntaxError\u001b[0m\u001b[0;31m:\u001b[0m unexpected EOF while parsing\n"
          ]
        }
      ]
    },
    {
      "cell_type": "markdown",
      "source": [
        "7.인터넷 도메인의 약자와 해당되는 국가를 딕셔너리에 저장해보자. 예를 들어서 \"kr\"은 대한민국으로 저장되어야 한다. 딕셔너리를 순회하면서 모든 키와 값을 출력하는 프로그램을 작성해보자."
      ],
      "metadata": {
        "id": "VGlWZjR8bfc4"
      }
    },
    {
      "cell_type": "code",
      "source": [
        "domains={\"kr\":\"대한민국\",\"us\":\"미국\",\"jp\":\"일본\",\"de\":\"독일\",\"sk\":\"슬로바키아\",\"hu\":\"헝가리\",\"no\":\"노르웨이\"}\n",
        "\n",
        "for k,v in domains.items():\n",
        "   print(k,\":\",v)"
      ],
      "metadata": {
        "colab": {
          "base_uri": "https://localhost:8080/"
        },
        "id": "7oJUgIGjb9dl",
        "outputId": "5a6d93a7-6f9e-497d-e1f9-895ed5b03996"
      },
      "execution_count": 13,
      "outputs": [
        {
          "output_type": "stream",
          "name": "stdout",
          "text": [
            "kr : 대한민국\n",
            "us : 미국\n",
            "jp : 일본\n",
            "de : 독일\n",
            "sk : 슬로바키아\n",
            "hu : 헝가리\n",
            "no : 노르웨이\n"
          ]
        }
      ]
    },
    {
      "cell_type": "markdown",
      "source": [
        "8.딕셔너리에 문제와 정답을 저장하고 하나씩 꺼내서 사용자에게 제시하는 프로그램을 작성해보자 ㅡ사용자는 문자열로 답해야한다. 번호는 답할수없다."
      ],
      "metadata": {
        "id": "g2urpklIc0Q9"
      }
    },
    {
      "cell_type": "code",
      "source": [
        "problems= {'파이썬': '최근에 가장 떠오르는 프로그래밍 언어',\n",
        "           '변수': '데이터를 저장하는 메모리 공간',\n",
        "           '함수': '작업을 수행하는 문장들의 집합에 이름을 붙인것',\n",
        "           '리스트': '서로 관련이 없는 항목들의 모임',\n",
        "}\n",
        "\n",
        "def show_words(problems): \n",
        "    display_message = \"\"\n",
        "    i=1 \n",
        "    for word in problems.keys(): \n",
        "       display_message += \"(\"+str(i)+\")\" \n",
        "       display_message += word + \n",
        "       i+=1 \n",
        "    print( display_message) \n",
        "\n",
        "for meaning in problems.values():\n",
        "    print(\"다음은 어떤 단어에 대한 설명일까요? \")\n",
        "    print(\"/\"\"+meaning+\"/\"\") \n",
        "    correct = False \n",
        "    while not correct: \n",
        "    show_words(problems) \n",
        "    guessed_word = input(\"\") \n",
        "    if problems[guessed_word] meaning: \n",
        "        print(\"정답입니다.!\") \n",
        "        correct = True \n",
        "   else:\n",
        "        print(\"정답이 아닙니다.\")"
      ],
      "metadata": {
        "colab": {
          "base_uri": "https://localhost:8080/",
          "height": 137
        },
        "id": "MH_upQ1wdBdF",
        "outputId": "a6f298f0-f11a-4fdc-df14-66b0f1ac16f4"
      },
      "execution_count": 15,
      "outputs": [
        {
          "output_type": "error",
          "ename": "IndentationError",
          "evalue": "ignored",
          "traceback": [
            "\u001b[0;36m  File \u001b[0;32m\"<tokenize>\"\u001b[0;36m, line \u001b[0;32m26\u001b[0m\n\u001b[0;31m    else:\u001b[0m\n\u001b[0m    ^\u001b[0m\n\u001b[0;31mIndentationError\u001b[0m\u001b[0;31m:\u001b[0m unindent does not match any outer indentation level\n"
          ]
        }
      ]
    }
  ]
}